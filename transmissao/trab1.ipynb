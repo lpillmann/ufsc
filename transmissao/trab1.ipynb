{
 "cells": [
  {
   "cell_type": "code",
   "execution_count": 185,
   "metadata": {
    "collapsed": false
   },
   "outputs": [],
   "source": [
    "# Trabalho 1 de Transmissão de Energia\n",
    "# Baseado em Kersting - Distribution System Modeling and Analysis (p. 92-95)\n",
    "#\n",
    "# Exemplo 4.1 \n",
    "\n",
    "import numpy as np"
   ]
  },
  {
   "cell_type": "code",
   "execution_count": 186,
   "metadata": {
    "collapsed": false
   },
   "outputs": [],
   "source": [
    "# Dados do enunciado\n",
    "\n",
    "GMR_f = 0.0244 # [ft.]\n",
    "Resistance_f = 0.306 # [ohms/mile]\n",
    "\n",
    "GMR_n = 0.00814\n",
    "Resistance_n = 0.5920\n",
    "\n",
    "# D [ft.]\n",
    "d_ab = 2.5\n",
    "d_bc = 4.5\n",
    "d_ca = 7.0\n",
    "d_an = 5.6569\n",
    "d_bn = 4.272\n",
    "d_cn = 5.0"
   ]
  },
  {
   "cell_type": "code",
   "execution_count": 187,
   "metadata": {
    "collapsed": false
   },
   "outputs": [],
   "source": [
    "D = np.array([[1, d_ab, d_ca, d_an],\n",
    "             [d_ab, 1, d_bc, d_bn],\n",
    "             [d_ca, d_bc, 1, d_cn],\n",
    "             [d_an, d_bn, d_cn, 1]])"
   ]
  },
  {
   "cell_type": "code",
   "execution_count": 188,
   "metadata": {
    "collapsed": false
   },
   "outputs": [],
   "source": [
    "#D = D*0.000189394 # ft. to miles"
   ]
  },
  {
   "cell_type": "code",
   "execution_count": 189,
   "metadata": {
    "collapsed": false
   },
   "outputs": [],
   "source": [
    "Z = np.zeros(shape=(4,4),dtype=np.complex_)\n",
    "Z[0,1] = 3.+2.j"
   ]
  },
  {
   "cell_type": "code",
   "execution_count": 190,
   "metadata": {
    "collapsed": false
   },
   "outputs": [
    {
     "data": {
      "text/plain": [
       "0.0"
      ]
     },
     "execution_count": 190,
     "metadata": {},
     "output_type": "execute_result"
    }
   ],
   "source": [
    "np.log(1)"
   ]
  },
  {
   "cell_type": "code",
   "execution_count": 191,
   "metadata": {
    "collapsed": false
   },
   "outputs": [
    {
     "data": {
      "text/plain": [
       "(0.4013+1.413270295078513j)"
      ]
     },
     "execution_count": 191,
     "metadata": {},
     "output_type": "execute_result"
    }
   ],
   "source": [
    "Zab=0.09530 + 0.306 + (0.12134j*(np.log(1./GMR_f)+7.93402))\n",
    "Zab"
   ]
  },
  {
   "cell_type": "code",
   "execution_count": 192,
   "metadata": {
    "collapsed": false
   },
   "outputs": [
    {
     "data": {
      "text/plain": [
       "(0.0953+0.8515312693943901j)"
      ]
     },
     "execution_count": 192,
     "metadata": {},
     "output_type": "execute_result"
    }
   ],
   "source": [
    "Zab=0.09530 + (0.12134j*(np.log(1./D[0,1])+7.93402))\n",
    "Zab"
   ]
  },
  {
   "cell_type": "code",
   "execution_count": 193,
   "metadata": {
    "collapsed": false
   },
   "outputs": [],
   "source": [
    "for (i,j), value in np.ndenumerate(D): # loop 2 dimensões para calcular Z^\n",
    "    if i==j:\n",
    "        if i==3: # iterando para o neutro\n",
    "            Z[i,j] = Resistance_n + 0.09530 + (0.12134j*(np.log(1./GMR_n)+7.93402))\n",
    "        else:\n",
    "            Z[i,j] = Resistance_f + 0.09530 + (0.12134j*(np.log(1./GMR_f)+7.93402))\n",
    "    else:\n",
    "        Z[i,j] = 0.09530 + (0.12134j*(np.log(1./D[i,j])+7.93402))"
   ]
  },
  {
   "cell_type": "code",
   "execution_count": 194,
   "metadata": {
    "collapsed": false
   },
   "outputs": [
    {
     "name": "stdout",
     "output_type": "stream",
     "text": [
      "[ 0.4013+1.4132703j   0.0953+0.85153127j  0.0953+0.72659725j\n",
      "  0.0953+0.75244681j]\n",
      "[ 0.0953+0.85153127j  0.4013+1.4132703j   0.0953+0.78020924j\n",
      "  0.0953+0.78651834j]\n",
      "[ 0.0953+0.72659725j  0.0953+0.78020924j  0.4013+1.4132703j\n",
      "  0.0953+0.76742479j]\n",
      "[ 0.0953+0.75244681j  0.0953+0.78651834j  0.0953+0.76742479j\n",
      "  0.6873+1.54647649j]\n"
     ]
    }
   ],
   "source": [
    "for row in Z:\n",
    "    print row"
   ]
  },
  {
   "cell_type": "code",
   "execution_count": 195,
   "metadata": {
    "collapsed": false
   },
   "outputs": [
    {
     "data": {
      "text/plain": [
       "array([[ 0.4013+1.4132703j ,  0.0953+0.85153127j,  0.0953+0.72659725j],\n",
       "       [ 0.0953+0.85153127j,  0.4013+1.4132703j ,  0.0953+0.78020924j],\n",
       "       [ 0.0953+0.72659725j,  0.0953+0.78020924j,  0.4013+1.4132703j ]])"
      ]
     },
     "execution_count": 195,
     "metadata": {},
     "output_type": "execute_result"
    }
   ],
   "source": [
    "Zij = Z[0:3,0:3]\n",
    "Zij"
   ]
  },
  {
   "cell_type": "code",
   "execution_count": 196,
   "metadata": {
    "collapsed": false
   },
   "outputs": [
    {
     "data": {
      "text/plain": [
       "array([ 0.0953+0.75244681j,  0.0953+0.78651834j,  0.0953+0.76742479j])"
      ]
     },
     "execution_count": 196,
     "metadata": {},
     "output_type": "execute_result"
    }
   ],
   "source": [
    "Zin = Z[3,0:3]\n",
    "Zin"
   ]
  },
  {
   "cell_type": "code",
   "execution_count": 197,
   "metadata": {
    "collapsed": false
   },
   "outputs": [
    {
     "data": {
      "text/plain": [
       "(0.68730000000000002+1.5464764919087395j)"
      ]
     },
     "execution_count": 197,
     "metadata": {},
     "output_type": "execute_result"
    }
   ],
   "source": [
    "Znn = Z[3,3]\n",
    "Znn"
   ]
  },
  {
   "cell_type": "code",
   "execution_count": 198,
   "metadata": {
    "collapsed": false
   },
   "outputs": [
    {
     "data": {
      "text/plain": [
       "array([ 0.0953+0.75244681j,  0.0953+0.78651834j,  0.0953+0.76742479j])"
      ]
     },
     "execution_count": 198,
     "metadata": {},
     "output_type": "execute_result"
    }
   ],
   "source": [
    "Znj = Z[0:3,3]\n",
    "Znj"
   ]
  },
  {
   "cell_type": "code",
   "execution_count": 212,
   "metadata": {
    "collapsed": false
   },
   "outputs": [
    {
     "data": {
      "text/plain": [
       "(0.239981494502049-0.53997634183114385j)"
      ]
     },
     "execution_count": 212,
     "metadata": {},
     "output_type": "execute_result"
    }
   ],
   "source": [
    "1./(Znn)"
   ]
  },
  {
   "cell_type": "code",
   "execution_count": 211,
   "metadata": {
    "collapsed": false
   },
   "outputs": [
    {
     "data": {
      "text/plain": [
       "array([[ 0.58305084+0.36471605j,  0.27705084-0.19702297j,\n",
       "         0.27705084-0.32195699j],\n",
       "       [ 0.27705084-0.19702297j,  0.58305084+0.36471605j,\n",
       "         0.27705084-0.26834501j],\n",
       "       [ 0.27705084-0.32195699j,  0.27705084-0.26834501j,\n",
       "         0.58305084+0.36471605j]])"
      ]
     },
     "execution_count": 211,
     "metadata": {},
     "output_type": "execute_result"
    }
   ],
   "source": [
    "Zabc = Zij - np.dot(np.transpose(Zin) , np.dot(1./(Znn) , Znj))\n",
    "Zabc"
   ]
  },
  {
   "cell_type": "code",
   "execution_count": 203,
   "metadata": {
    "collapsed": true
   },
   "outputs": [],
   "source": [
    "a = np.dot(np.conj(Znn) , Znj)"
   ]
  },
  {
   "cell_type": "code",
   "execution_count": 204,
   "metadata": {
    "collapsed": false
   },
   "outputs": [
    {
     "data": {
      "text/plain": [
       "(-0.52052911772233879+3.003028768931761j)"
      ]
     },
     "execution_count": 204,
     "metadata": {},
     "output_type": "execute_result"
    }
   ],
   "source": [
    "np.dot(np.transpose(Zin) , a)"
   ]
  },
  {
   "cell_type": "code",
   "execution_count": null,
   "metadata": {
    "collapsed": true
   },
   "outputs": [],
   "source": []
  },
  {
   "cell_type": "code",
   "execution_count": null,
   "metadata": {
    "collapsed": true
   },
   "outputs": [],
   "source": []
  }
 ],
 "metadata": {
  "kernelspec": {
   "display_name": "Python 2",
   "language": "python",
   "name": "python2"
  },
  "language_info": {
   "codemirror_mode": {
    "name": "ipython",
    "version": 2
   },
   "file_extension": ".py",
   "mimetype": "text/x-python",
   "name": "python",
   "nbconvert_exporter": "python",
   "pygments_lexer": "ipython2",
   "version": "2.7.10"
  }
 },
 "nbformat": 4,
 "nbformat_minor": 0
}
