{
 "cells": [
  {
   "cell_type": "code",
   "execution_count": 44,
   "metadata": {
    "collapsed": false
   },
   "outputs": [],
   "source": [
    "# Trabalho 1 de Transmissão de Energia\n",
    "# Baseado em Kersting - Distribution System Modeling and Analysis (p. 92-95)\n",
    "#\n",
    "# Exemplo 4.1 \n",
    "\n",
    "import numpy as np\n",
    "from numpy.linalg import inv\n",
    "from IPython.display import display"
   ]
  },
  {
   "cell_type": "code",
   "execution_count": 2,
   "metadata": {
    "collapsed": false
   },
   "outputs": [],
   "source": [
    "# Dados do enunciado\n",
    "\n",
    "GMR_f = 0.0244 # [ft.]\n",
    "Resistance_f = 0.306 # [ohms/mile]\n",
    "\n",
    "GMR_n = 0.00814\n",
    "Resistance_n = 0.5920\n",
    "\n",
    "# D [ft.]\n",
    "d_ab = 2.5\n",
    "d_bc = 4.5\n",
    "d_ca = 7.0\n",
    "d_an = 5.6569\n",
    "d_bn = 4.272\n",
    "d_cn = 5.0"
   ]
  },
  {
   "cell_type": "code",
   "execution_count": 3,
   "metadata": {
    "collapsed": false
   },
   "outputs": [],
   "source": [
    "D = np.array([[1, d_ab, d_ca, d_an],\n",
    "             [d_ab, 1, d_bc, d_bn],\n",
    "             [d_ca, d_bc, 1, d_cn],\n",
    "             [d_an, d_bn, d_cn, 1]])"
   ]
  },
  {
   "cell_type": "code",
   "execution_count": 4,
   "metadata": {
    "collapsed": false
   },
   "outputs": [],
   "source": [
    "#D = D*0.000189394 # ft. to miles"
   ]
  },
  {
   "cell_type": "code",
   "execution_count": 11,
   "metadata": {
    "collapsed": false
   },
   "outputs": [
    {
     "data": {
      "text/plain": [
       "array([[ 0.+0.j,  0.+0.j,  0.+0.j,  0.+0.j],\n",
       "       [ 0.+0.j,  0.+0.j,  0.+0.j,  0.+0.j],\n",
       "       [ 0.+0.j,  0.+0.j,  0.+0.j,  0.+0.j],\n",
       "       [ 0.+0.j,  0.+0.j,  0.+0.j,  0.+0.j]])"
      ]
     },
     "metadata": {},
     "output_type": "display_data"
    }
   ],
   "source": [
    "Z = np.zeros(shape=(4,4),dtype=np.complex_)\n",
    "display(Z)"
   ]
  },
  {
   "cell_type": "code",
   "execution_count": 15,
   "metadata": {
    "collapsed": false
   },
   "outputs": [],
   "source": [
    "for (i,j), value in np.ndenumerate(D): # loop 2 dimensões para calcular Z^\n",
    "    if i==j:\n",
    "        if i==3: # iterando para o neutro\n",
    "            Z[i,j] = Resistance_n + 0.09530 + (0.12134j*(np.log(1./GMR_n)+7.93402))\n",
    "        else:\n",
    "            Z[i,j] = Resistance_f + 0.09530 + (0.12134j*(np.log(1./GMR_f)+7.93402))\n",
    "    else:\n",
    "        Z[i,j] = 0.09530 + (0.12134j*(np.log(1./D[i,j])+7.93402))"
   ]
  },
  {
   "cell_type": "code",
   "execution_count": 16,
   "metadata": {
    "collapsed": false
   },
   "outputs": [
    {
     "data": {
      "text/plain": [
       "array([[ 0.4013+1.4132703j ,  0.0953+0.85153127j,  0.0953+0.72659725j,\n",
       "         0.0953+0.75244681j],\n",
       "       [ 0.0953+0.85153127j,  0.4013+1.4132703j ,  0.0953+0.78020924j,\n",
       "         0.0953+0.78651834j],\n",
       "       [ 0.0953+0.72659725j,  0.0953+0.78020924j,  0.4013+1.4132703j ,\n",
       "         0.0953+0.76742479j],\n",
       "       [ 0.0953+0.75244681j,  0.0953+0.78651834j,  0.0953+0.76742479j,\n",
       "         0.6873+1.54647649j]])"
      ]
     },
     "metadata": {},
     "output_type": "display_data"
    }
   ],
   "source": [
    "display(Z)"
   ]
  },
  {
   "cell_type": "code",
   "execution_count": 18,
   "metadata": {
    "collapsed": false
   },
   "outputs": [
    {
     "data": {
      "text/plain": [
       "array([[ 0.4013+1.4132703j ,  0.0953+0.85153127j,  0.0953+0.72659725j],\n",
       "       [ 0.0953+0.85153127j,  0.4013+1.4132703j ,  0.0953+0.78020924j],\n",
       "       [ 0.0953+0.72659725j,  0.0953+0.78020924j,  0.4013+1.4132703j ]])"
      ]
     },
     "metadata": {},
     "output_type": "display_data"
    }
   ],
   "source": [
    "Zij = Z[0:3,0:3]\n",
    "display(Zij)"
   ]
  },
  {
   "cell_type": "code",
   "execution_count": 19,
   "metadata": {
    "collapsed": false
   },
   "outputs": [
    {
     "data": {
      "text/plain": [
       "array([ 0.0953+0.75244681j,  0.0953+0.78651834j,  0.0953+0.76742479j])"
      ]
     },
     "metadata": {},
     "output_type": "display_data"
    }
   ],
   "source": [
    "Zin = Z[3,0:3]\n",
    "display(Zin)"
   ]
  },
  {
   "cell_type": "code",
   "execution_count": 20,
   "metadata": {
    "collapsed": false
   },
   "outputs": [
    {
     "data": {
      "text/plain": [
       "(0.68730000000000002+1.5464764919087395j)"
      ]
     },
     "metadata": {},
     "output_type": "display_data"
    }
   ],
   "source": [
    "Znn = Z[3,3]\n",
    "display(Znn)"
   ]
  },
  {
   "cell_type": "code",
   "execution_count": 21,
   "metadata": {
    "collapsed": false
   },
   "outputs": [
    {
     "data": {
      "text/plain": [
       "array([ 0.0953+0.75244681j,  0.0953+0.78651834j,  0.0953+0.76742479j])"
      ]
     },
     "metadata": {},
     "output_type": "display_data"
    }
   ],
   "source": [
    "Znj = Z[0:3,3]\n",
    "display(Znj)"
   ]
  },
  {
   "cell_type": "code",
   "execution_count": 27,
   "metadata": {
    "collapsed": false
   },
   "outputs": [
    {
     "data": {
      "text/plain": [
       "array([[ 0.45755083+1.07803538j,  0.16062762+0.4864243j ,\n",
       "         0.15547239+0.37838489j],\n",
       "       [ 0.15155083+0.51629636j,  0.46662762+1.04816333j,\n",
       "         0.15547239+0.43199687j],\n",
       "       [ 0.15155083+0.39136234j,  0.16062762+0.41510227j,\n",
       "         0.46147239+1.06505793j]])"
      ]
     },
     "metadata": {},
     "output_type": "display_data"
    }
   ],
   "source": [
    "# Kron reduction (p. 94)\n",
    "Zabc = Zij - (np.transpose(Zin) * (1./Znn) * Znj)\n",
    "display(Zabc)"
   ]
  },
  {
   "cell_type": "code",
   "execution_count": 58,
   "metadata": {
    "collapsed": false
   },
   "outputs": [
    {
     "data": {
      "text/plain": [
       "array([[ 1.0+0.j       ,  1.0+0.j       ,  1.0+0.j       ],\n",
       "       [ 1.0+0.j       , -0.5-0.8660254j, -0.5+0.8660254j],\n",
       "       [ 1.0+0.j       , -0.5+0.8660254j, -0.5-0.8660254j]])"
      ]
     },
     "metadata": {},
     "output_type": "display_data"
    },
    {
     "data": {
      "text/plain": [
       "array([[ 0.33333333 -3.20493781e-17j,  0.33333333 +0.00000000e+00j,\n",
       "         0.33333333 +0.00000000e+00j],\n",
       "       [ 0.33333333 -0.00000000e+00j, -0.16666667 +2.88675135e-01j,\n",
       "        -0.16666667 -2.88675135e-01j],\n",
       "       [ 0.33333333 +3.20493781e-17j, -0.16666667 -2.88675135e-01j,\n",
       "        -0.16666667 +2.88675135e-01j]])"
      ]
     },
     "metadata": {},
     "output_type": "display_data"
    }
   ],
   "source": [
    "# a_s = 1|_120\n",
    "\n",
    "a_s = np.cos(120 * np.pi / 180)*1 + np.sin(120 * np.pi / 180)*1.j \n",
    "\n",
    "A_s = np.array([[1,      1,           1],\n",
    "                [1,    a_s**2,      a_s],\n",
    "                [1,     a_s,     a_s**2]])\n",
    "display(A_s)\n",
    "display(inv(A_s))"
   ]
  },
  {
   "cell_type": "markdown",
   "metadata": {},
   "source": [
    "## (Certo até aqui)\n",
    "Zabc como deve ser. Problemas com a operação com Z_012... Talvez erros na multiplicação com inversa? Testar."
   ]
  },
  {
   "cell_type": "code",
   "execution_count": 59,
   "metadata": {
    "collapsed": false
   },
   "outputs": [
    {
     "data": {
      "text/plain": [
       "array([[ 0.15251694+0.35934513j,  0.05354254+0.16214143j,\n",
       "         0.05182413+0.1261283j ],\n",
       "       [ 0.05051694+0.17209879j,  0.15554254+0.34938778j,\n",
       "         0.05182413+0.14399896j],\n",
       "       [ 0.05051694+0.13045411j,  0.05354254+0.13836742j,\n",
       "         0.15382413+0.35501931j]])"
      ]
     },
     "metadata": {},
     "output_type": "display_data"
    }
   ],
   "source": [
    "Z_012 = inv(A_s) * Zabc * A_s\n",
    "display(Z_012)"
   ]
  },
  {
   "cell_type": "code",
   "execution_count": null,
   "metadata": {
    "collapsed": true
   },
   "outputs": [],
   "source": []
  }
 ],
 "metadata": {
  "kernelspec": {
   "display_name": "Python 2",
   "language": "python",
   "name": "python2"
  },
  "language_info": {
   "codemirror_mode": {
    "name": "ipython",
    "version": 2
   },
   "file_extension": ".py",
   "mimetype": "text/x-python",
   "name": "python",
   "nbconvert_exporter": "python",
   "pygments_lexer": "ipython2",
   "version": "2.7.10"
  }
 },
 "nbformat": 4,
 "nbformat_minor": 0
}
