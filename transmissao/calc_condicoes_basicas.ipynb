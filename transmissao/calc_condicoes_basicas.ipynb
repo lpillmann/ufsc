{
 "cells": [
  {
   "cell_type": "markdown",
   "metadata": {},
   "source": [
    "# Cálculo de flechas e tensões (aula 31/05)\n",
    "Roteiro de cálculo apresentado em sala de aula, com valores dados pelo professor."
   ]
  },
  {
   "cell_type": "code",
   "execution_count": 189,
   "metadata": {
    "collapsed": true
   },
   "outputs": [],
   "source": [
    "import numpy as np\n",
    "from numpy.linalg import inv\n",
    "from IPython.display import display\n",
    "from sympy import *"
   ]
  },
  {
   "cell_type": "code",
   "execution_count": 190,
   "metadata": {
    "collapsed": true
   },
   "outputs": [],
   "source": [
    "H1 = Symbol('H1') # Seria usado no solver do Python, mas não funcionou... Usei o WolframAlpha"
   ]
  },
  {
   "cell_type": "markdown",
   "metadata": {},
   "source": [
    "## Dados fornecidos no problema\n",
    "Condições básicas de projeto."
   ]
  },
  {
   "cell_type": "code",
   "execution_count": 173,
   "metadata": {
    "collapsed": true
   },
   "outputs": [],
   "source": [
    "W  = 0.9769 # kg/m\n",
    "s  = 250    # m\n",
    "A  = 241.70 # mm2\n",
    "E  = 8000   # kg/mm2 \n",
    "CR = 8860   # kgf\n",
    "Ti = 19     # oC\n",
    "Tf = 65     # oC\n",
    "\n",
    "alpha = 18.9e-6 # 1/oC"
   ]
  },
  {
   "cell_type": "markdown",
   "metadata": {},
   "source": [
    "## Cálculo dos parâmetros conforme roteiro apresentado em aula"
   ]
  },
  {
   "cell_type": "code",
   "execution_count": 174,
   "metadata": {
    "collapsed": false
   },
   "outputs": [
    {
     "name": "stdout",
     "output_type": "stream",
     "text": [
      "1772.0\n"
     ]
    }
   ],
   "source": [
    "T = 0.2*CR\n",
    "print(T)"
   ]
  },
  {
   "cell_type": "code",
   "execution_count": 175,
   "metadata": {
    "collapsed": false
   },
   "outputs": [
    {
     "name": "stdout",
     "output_type": "stream",
     "text": [
      "1767.78746951\n"
     ]
    }
   ],
   "source": [
    "H = np.sqrt(T**2 - (W*s/2)**2)\n",
    "print(H)"
   ]
  },
  {
   "cell_type": "code",
   "execution_count": 176,
   "metadata": {
    "collapsed": false
   },
   "outputs": [
    {
     "name": "stdout",
     "output_type": "stream",
     "text": [
      "250.198862325\n"
     ]
    }
   ],
   "source": [
    "L = 2*(H/W)*np.sinh((s*W)/(2*H))\n",
    "print(L)"
   ]
  },
  {
   "cell_type": "code",
   "execution_count": 177,
   "metadata": {
    "collapsed": false
   },
   "outputs": [
    {
     "name": "stdout",
     "output_type": "stream",
     "text": [
      "0.228925560314194\n"
     ]
    }
   ],
   "source": [
    "f_est = (H/(2*A*E))*(s+(H/W)*sinh(s*W/H))\n",
    "print(f_est)"
   ]
  },
  {
   "cell_type": "code",
   "execution_count": 178,
   "metadata": {
    "collapsed": false
   },
   "outputs": [
    {
     "name": "stdout",
     "output_type": "stream",
     "text": [
      "249.969936765108\n"
     ]
    }
   ],
   "source": [
    "Lo = L - f_est\n",
    "print(Lo)"
   ]
  },
  {
   "cell_type": "code",
   "execution_count": 179,
   "metadata": {
    "collapsed": false
   },
   "outputs": [
    {
     "name": "stdout",
     "output_type": "stream",
     "text": [
      "4.31899568657758\n"
     ]
    }
   ],
   "source": [
    "f = (H/W)*(cosh(W*s/(2*H))-1)\n",
    "print(f)"
   ]
  },
  {
   "cell_type": "code",
   "execution_count": 180,
   "metadata": {
    "collapsed": false
   },
   "outputs": [
    {
     "name": "stdout",
     "output_type": "stream",
     "text": [
      "1772.00669639259\n"
     ]
    }
   ],
   "source": [
    "T_verificado = H + W*f\n",
    "print(T_verificado)"
   ]
  },
  {
   "cell_type": "code",
   "execution_count": 181,
   "metadata": {
    "collapsed": false
   },
   "outputs": [
    {
     "name": "stdout",
     "output_type": "stream",
     "text": [
      "250.187260628132\n"
     ]
    }
   ],
   "source": [
    "Lo_ = Lo*(1+alpha*(Tf-Ti))\n",
    "print(Lo_)"
   ]
  },
  {
   "cell_type": "markdown",
   "metadata": {},
   "source": [
    "## Solução de H1\n",
    "### Obs.: (H1 resolvido com o auxílio do [WolframAlpha](https://www.wolframalpha.com/))\n",
    "Equação usada: \n",
    "```\n",
    "250.1873 = (2/0.9769)*x*sinh((250*0.9769)/(2*x)) - (x/(2*241.70*8000))*(250+(x/0.9769)*sinh((250*0.9769)/(x)))\n",
    "```"
   ]
  },
  {
   "cell_type": "code",
   "execution_count": 191,
   "metadata": {
    "collapsed": false
   },
   "outputs": [],
   "source": [
    "#solve( (((2*H1)/W)*sinh((s*W)/(2*H1)) ) - ( (H1/(2*A*E))*(s+(H1/W)*sinh((s*W)/H1)) ) - Lo_, H1)\n",
    "\n",
    "# Soluções WolframAlpha\n",
    "\n",
    "H1_1 = 8.93188\n",
    "H1_2 = 1317.44"
   ]
  },
  {
   "cell_type": "code",
   "execution_count": 183,
   "metadata": {
    "collapsed": false
   },
   "outputs": [],
   "source": [
    "H1 = H1_2 # Seleciona um dos resultados da solução do Wolfram"
   ]
  },
  {
   "cell_type": "markdown",
   "metadata": {},
   "source": [
    "## Apresentação dos resultados (tabela)"
   ]
  },
  {
   "cell_type": "code",
   "execution_count": 187,
   "metadata": {
    "collapsed": false,
    "scrolled": true
   },
   "outputs": [
    {
     "name": "stdout",
     "output_type": "stream",
     "text": [
      "[   50.   100.   150.   200.   250.   300.   350.   400.   450.   500.\n",
      "   550.   600.   650.   700.   750.   800.   850.   900.   950.  1000.\n",
      "  1050.  1100.  1150.  1200.  1250.  1300.  1350.  1400.  1450.  1500.]\n"
     ]
    }
   ],
   "source": [
    "# Gera intervalo de valores para s (vão), conforme especificado\n",
    "S = np.linspace(50, 1500, num=30) \n",
    "print(S)"
   ]
  },
  {
   "cell_type": "code",
   "execution_count": 188,
   "metadata": {
    "collapsed": false
   },
   "outputs": [
    {
     "name": "stdout",
     "output_type": "stream",
     "text": [
      "+---------+-------------------+\n",
      "| s (vão) |     f (flecha)    |\n",
      "+---------+-------------------+\n",
      "|   50.0  | 0.231729712652057 |\n",
      "|  100.0  | 0.926998487207174 |\n",
      "|  150.0  |  2.08604526083140 |\n",
      "|  200.0  |  3.70926835337065 |\n",
      "|  250.0  |  5.79722560423869 |\n",
      "|  300.0  |  8.35063456412419 |\n",
      "|  350.0  |  11.3703727415859 |\n",
      "|  400.0  |  14.8574779046184 |\n",
      "|  450.0  |  18.8131484372934 |\n",
      "|  500.0  |  23.2387437515976 |\n",
      "|  550.0  |  28.1357847546120 |\n",
      "|  600.0  |  33.5059543711868 |\n",
      "|  650.0  |  39.3510981222999 |\n",
      "|  700.0  |  45.6732247592912 |\n",
      "|  750.0  |  52.4745069541923 |\n",
      "|  800.0  |  59.7572820463919 |\n",
      "|  850.0  |  67.5240528458883 |\n",
      "|  900.0  |  75.7774884934094 |\n",
      "|  950.0  |  84.5204253776946 |\n",
      "|  1000.0 |  93.7558681102513 |\n",
      "|  1050.0 |  103.486990557925 |\n",
      "|  1100.0 |  113.717136933636 |\n",
      "|  1150.0 |  124.449822945658 |\n",
      "|  1200.0 |  135.688737005826 |\n",
      "|  1250.0 |  147.437741497109 |\n",
      "|  1300.0 |  159.700874100962 |\n",
      "|  1350.0 |  172.482349184914 |\n",
      "|  1400.0 |  185.786559250895 |\n",
      "|  1450.0 |  199.618076444763 |\n",
      "|  1500.0 |  213.981654127577 |\n",
      "+---------+-------------------+\n"
     ]
    }
   ],
   "source": [
    "from prettytable import PrettyTable # Imprime resultados em forma de tabela\n",
    "\n",
    "t = PrettyTable(['s (vão)', 'f (flecha)'])\n",
    "\n",
    "# Loop para calcular equação para cada s\n",
    "for s in S:\n",
    "    f1 = (H1/W)*(cosh((W*s)/(2*H1))-1)\n",
    "    t.add_row([s, f1]) # Adiciona linha na tabela\n",
    "\n",
    "print t\n"
   ]
  },
  {
   "cell_type": "code",
   "execution_count": null,
   "metadata": {
    "collapsed": true
   },
   "outputs": [],
   "source": []
  }
 ],
 "metadata": {
  "kernelspec": {
   "display_name": "Python 2",
   "language": "python",
   "name": "python2"
  },
  "language_info": {
   "codemirror_mode": {
    "name": "ipython",
    "version": 2
   },
   "file_extension": ".py",
   "mimetype": "text/x-python",
   "name": "python",
   "nbconvert_exporter": "python",
   "pygments_lexer": "ipython2",
   "version": "2.7.10"
  }
 },
 "nbformat": 4,
 "nbformat_minor": 0
}
